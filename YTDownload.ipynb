{
 "cells": [
  {
   "cell_type": "markdown",
   "id": "1f8c077c",
   "metadata": {},
   "source": [
    "# YouTube Playlist Downloader"
   ]
  },
  {
   "cell_type": "markdown",
   "id": "1a7bcbf7",
   "metadata": {},
   "source": [
    "## This is a code created by me to download videos from a playlist on YouTube"
   ]
  },
  {
   "cell_type": "code",
   "execution_count": null,
   "id": "c33102d3",
   "metadata": {},
   "outputs": [],
   "source": [
    "import subprocess\n",
    "\n",
    "# Playlist URL to input\n",
    "playlist_url = input(\"INSERT PLAYLIST URL\")\n",
    "\n",
    "# Path to save the videos\n",
    "output_path = input(\"INSERT SAVE PATH\")\n",
    "\n",
    "# yt-dlp command\n",
    "command = [\n",
    "    \"yt-dlp\",\n",
    "    \"--ignore-errors\",  # Ignora vídeos borrados o problemáticos\n",
    "    \"-o\", output_path,  # Ruta de salida\n",
    "    playlist_url\n",
    "]\n",
    "\n",
    "# Execute command on terminal\n",
    "subprocess.run(command)\n"
   ]
  }
 ],
 "metadata": {
  "kernelspec": {
   "display_name": "WorkArea",
   "language": "python",
   "name": "python3"
  },
  "language_info": {
   "name": "python",
   "version": "3.10.14"
  }
 },
 "nbformat": 4,
 "nbformat_minor": 5
}
