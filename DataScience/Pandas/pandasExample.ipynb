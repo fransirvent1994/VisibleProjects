{
 "cells": [
  {
   "cell_type": "markdown",
   "id": "ba02aabd",
   "metadata": {},
   "source": [
    "<p> This is a basic example of how to use pandas to read data"
   ]
  },
  {
   "cell_type": "code",
   "execution_count": null,
   "id": "27137f02",
   "metadata": {},
   "outputs": [],
   "source": [
    "# First we import Pandas library. Pandas will be named as pd from now on\n",
    "import pandas as pd \n",
    "\n",
    "# We make a list with the data we want to work with\n",
    "users = {\n",
    "    \"Name\": [\"Juan\", \"María\", \"Carlos\", \"Ana\", \"Luis\"],\n",
    "    \"Surname\": [\"Gómez\", \"López\", \"Rodríguez\", \"Pérez\", \"Martínez\"],\n",
    "    \"Email\": [\"juan@example.com\", \"maria@example.com\", \"carlos@example.com\", \"ana@example.com\", \"luis@example.com\"],\n",
    "    \"Phone\": [\"123-123-4567\", \"456-987-6543\", \"789-567-8901\", \"654-234-5678\", \"963-678-9012\"],\n",
    "    \"Age\": [12, 27, 22, 30, 16],\n",
    "    \"Address\": [\"13 Rue del Percebe\", \"La Vega\", \"Murcia\", \"Unknown\", \"Johto\"]\n",
    "}\n",
    "\n",
    "# Var users_df refers to Data from users with pd.DataFrame\n",
    "users_df = pd.DataFrame(users)\n",
    "\n",
    "# Var above_age refers to value which points to users 18 or more years old\n",
    "above_age = users_df[users_df[\"Age\"] >= 18]\n",
    "\n",
    "# Prints 18 or above years old users\n",
    "print(above_age)\n",
    "\n",
    "# A function to modify the phone numbers.\n",
    "def modify_sintax(numbers):\n",
    "    numbers_modified = numbers.replace(\"-\", \"\")\n",
    "    return f\"({numbers_modified[0:3]}) {numbers_modified[3:6]}-{numbers_modified[6:]}\"\n",
    "\n",
    "users_df[\"Phone\"] = users_df[\"Phone\"].apply(modify_sintax)\n",
    "\n",
    "print(\"***\\n\"*5)\n",
    "print(users_df)\n",
    "\n",
    "print(\"***\\n\"*5)\n",
    "\n",
    "df_organized = users_df.sort_values(by='Age', ascending=False)\n",
    "print(df_organized)\n"
   ]
  }
 ],
 "metadata": {
  "kernelspec": {
   "display_name": "WorkArea",
   "language": "python",
   "name": "python3"
  },
  "language_info": {
   "name": "python",
   "version": "3.10.14"
  }
 },
 "nbformat": 4,
 "nbformat_minor": 5
}
