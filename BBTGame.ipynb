{
 "cells": [
  {
   "cell_type": "markdown",
   "id": "461f74a0",
   "metadata": {},
   "source": [
    "<h1>\n",
    "    <b>\n",
    "        <u> Rock, paper, scissors, lizard, Spock game"
   ]
  },
  {
   "cell_type": "markdown",
   "id": "9644dc73",
   "metadata": {},
   "source": [
    "<h2> \n",
    "    <b>\n",
    "        Description:"
   ]
  },
  {
   "cell_type": "markdown",
   "id": "d6ec6a9a",
   "metadata": {},
   "source": [
    "<p> On the popular show \"Big Bang Theory\" it was exposed a game with its name which consisted in a different version from the classic \"Rock, paper, scissors\", which added two more elements \"lizard\" and \"Spock\" (the famous vulcanian from Star Trek)"
   ]
  },
  {
   "cell_type": "markdown",
   "id": "c43b53f1",
   "metadata": {},
   "source": [
    "<li>Rock smashes scissors\n",
    "<p>\n",
    "<li>Scissors cuts paper\n",
    "<p>\n",
    "<li>Paper covers rock\n",
    "<p>\n",
    "<li>Rock smashes lizard \n",
    "<p>\n",
    "<li>Spock wins scissors\n",
    "<p>\n",
    "<li>Scissors decapitates lizard\n",
    "<p>\n",
    "<li>Lizard eats paper\n",
    "<p>\n",
    "<li>Paper deacreditates Spock\n",
    "<p>\n",
    "<li>Spock vaporizes rock\n",
    "<p>\n",
    "<li>Lizard poisones Spock\n",
    "<p>\n",
    "<p>"
   ]
  },
  {
   "cell_type": "code",
   "execution_count": 2,
   "id": "4dd5040b",
   "metadata": {},
   "outputs": [
    {
     "name": "stdout",
     "output_type": "stream",
     "text": [
      "paper vs spock\n",
      "You win!\n",
      "scissors vs spock\n",
      "You lose!\n",
      "rock vs rock\n",
      "It's a draw!\n"
     ]
    }
   ],
   "source": [
    "import random # First we import random library to make the computer choose between the options\n",
    "\n",
    "start_game = True # Var to start the loop\n",
    "\n",
    "def user_wins():\n",
    "    if ( # This shows the results between the different choices\n",
    "        (user == \"paper\" and choice in [\"rock\", \"spock\"])\n",
    "        or (user == \"scissors\" and choice in [\"paper\", \"lizard\"])\n",
    "        or (user == \"rock\" and choice in [\"scissors\", \"lizard\"])\n",
    "        or (user == \"lizard\" and choice in [\"spock\", \"paper\"])\n",
    "        or (user == \"spock\" and choice in [\"rock\", \"scissors\"])\n",
    "    ):\n",
    "        print(f\"{user} vs {choice}\")\n",
    "        print(\"You win!\")\n",
    "\n",
    "def user_loses():\n",
    "    if ( # This shows the results between the different choices\n",
    "        (choice == \"paper\" and user in [\"rock\", \"spock\"])\n",
    "        or (choice == \"scissors\" and user in [\"paper\", \"lizard\"])\n",
    "        or (choice == \"rock\" and user in [\"scissors\", \"lizard\"])\n",
    "        or (choice == \"lizard\" and user in [\"spock\", \"paper\"])\n",
    "        or (choice == \"spock\" and user in [\"rock\", \"scissors\"])\n",
    "    ):\n",
    "        print(f\"{user} vs {choice}\")\n",
    "        print(\"You lose!\")\n",
    "\n",
    "def draw():\n",
    "    if user == choice: # If user chooses the same as computer\n",
    "        print(f\"{user} vs {choice}\") # Prints the user choice and computer choice\n",
    "        print(\"It's a draw!\") # It will be a draw\n",
    "\n",
    "while start_game: # Loop start\n",
    "    options = [\"paper\", \"scissors\", \"rock\", \"lizard\", \"spock\"] # Different options to choose\n",
    "    user = input(f\"Choose an option: {', '.join(options)}: \").lower() # User option displayed with \",\" between each option.\n",
    "    choice = random.choice(options) # Computer choice\n",
    "\n",
    "    user_wins()\n",
    "    user_loses()\n",
    "    draw()\n",
    "\n",
    "    play_again = input(\"Play again? (Y/N): \").lower() # Input to start again\n",
    "    if play_again != \"y\" and play_again != \"yes\": # Conditional to start again or leave\n",
    "        start_game = False\n"
   ]
  }
 ],
 "metadata": {
  "kernelspec": {
   "display_name": "WorkArea",
   "language": "python",
   "name": "python3"
  },
  "language_info": {
   "codemirror_mode": {
    "name": "ipython",
    "version": 3
   },
   "file_extension": ".py",
   "mimetype": "text/x-python",
   "name": "python",
   "nbconvert_exporter": "python",
   "pygments_lexer": "ipython3",
   "version": "3.10.14"
  }
 },
 "nbformat": 4,
 "nbformat_minor": 5
}
